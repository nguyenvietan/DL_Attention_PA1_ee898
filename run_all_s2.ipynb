{
  "nbformat": 4,
  "nbformat_minor": 0,
  "metadata": {
    "colab": {
      "name": "run_all_s2.ipynb",
      "version": "0.3.2",
      "provenance": [],
      "include_colab_link": true
    },
    "kernelspec": {
      "name": "python2",
      "display_name": "Python 2"
    },
    "accelerator": "GPU"
  },
  "cells": [
    {
      "cell_type": "markdown",
      "metadata": {
        "id": "view-in-github",
        "colab_type": "text"
      },
      "source": [
        "<a href=\"https://colab.research.google.com/github/nguyenvietan/DL_Attention_PA1_ee898/blob/master/run_all_s2.ipynb\" target=\"_parent\"><img src=\"https://colab.research.google.com/assets/colab-badge.svg\" alt=\"Open In Colab\"/></a>"
      ]
    },
    {
      "cell_type": "code",
      "metadata": {
        "id": "Kb2F8566s7xj",
        "colab_type": "code",
        "outputId": "f9cdb9a8-d04d-42aa-8d3b-7a136c21fbfd",
        "colab": {
          "base_uri": "https://localhost:8080/",
          "height": 1579
        }
      },
      "source": [
        "!bash run_all_s2.sh"
      ],
      "execution_count": 0,
      "outputs": [
        {
          "output_type": "stream",
          "text": [
            "Namespace(arch='cbam_resnet50_s', batch_size=128, epoch=100, learning_rate=0.1)\n",
            "Model:  cbam_resnet50_s\n",
            "Files already downloaded and verified\n",
            "Files already downloaded and verified\n",
            "[Epoch   0], lr: 0.10000, Loss: 4.455 | top1-e-train: 0.931, top5-e-train: 0.736 | top1-e-test: 0.933, top5-e-test: 0.735\n",
            "[Epoch   1], lr: 0.10000, Loss: 3.666 | top1-e-train: 0.814, top5-e-train: 0.538 | top1-e-test: 0.797, top5-e-test: 0.528\n",
            "[Epoch   2], lr: 0.10000, Loss: 3.185 | top1-e-train: 0.741, top5-e-train: 0.447 | top1-e-test: 0.723, top5-e-test: 0.435\n",
            "[Epoch   3], lr: 0.10000, Loss: 2.896 | top1-e-train: 0.690, top5-e-train: 0.374 | top1-e-test: 0.689, top5-e-test: 0.378\n",
            "[Epoch   4], lr: 0.10000, Loss: 2.567 | top1-e-train: 0.638, top5-e-train: 0.312 | top1-e-test: 0.638, top5-e-test: 0.319\n",
            "[Epoch   5], lr: 0.10000, Loss: 2.338 | top1-e-train: 0.587, top5-e-train: 0.268 | top1-e-test: 0.606, top5-e-test: 0.292\n",
            "[Epoch   6], lr: 0.10000, Loss: 2.196 | top1-e-train: 0.556, top5-e-train: 0.235 | top1-e-test: 0.577, top5-e-test: 0.258\n",
            "[Epoch   7], lr: 0.10000, Loss: 2.009 | top1-e-train: 0.527, top5-e-train: 0.215 | top1-e-test: 0.558, top5-e-test: 0.256\n",
            "[Epoch   8], lr: 0.10000, Loss: 1.870 | top1-e-train: 0.474, top5-e-train: 0.169 | top1-e-test: 0.520, top5-e-test: 0.222\n",
            "[Epoch   9], lr: 0.10000, Loss: 1.785 | top1-e-train: 0.506, top5-e-train: 0.198 | top1-e-test: 0.544, top5-e-test: 0.246\n",
            "[Epoch  10], lr: 0.10000, Loss: 1.683 | top1-e-train: 0.436, top5-e-train: 0.143 | top1-e-test: 0.514, top5-e-test: 0.209\n",
            "[Epoch  11], lr: 0.10000, Loss: 1.556 | top1-e-train: 0.415, top5-e-train: 0.131 | top1-e-test: 0.493, top5-e-test: 0.208\n",
            "[Epoch  12], lr: 0.10000, Loss: 1.461 | top1-e-train: 0.400, top5-e-train: 0.117 | top1-e-test: 0.485, top5-e-test: 0.195\n",
            "[Epoch  13], lr: 0.10000, Loss: 1.366 | top1-e-train: 0.371, top5-e-train: 0.106 | top1-e-test: 0.479, top5-e-test: 0.192\n",
            "[Epoch  14], lr: 0.10000, Loss: 1.279 | top1-e-train: 0.350, top5-e-train: 0.088 | top1-e-test: 0.475, top5-e-test: 0.183\n",
            "[Epoch  15], lr: 0.10000, Loss: 1.195 | top1-e-train: 0.323, top5-e-train: 0.076 | top1-e-test: 0.457, top5-e-test: 0.180\n",
            "[Epoch  16], lr: 0.10000, Loss: 1.109 | top1-e-train: 0.286, top5-e-train: 0.060 | top1-e-test: 0.454, top5-e-test: 0.176\n",
            "[Epoch  17], lr: 0.10000, Loss: 1.028 | top1-e-train: 0.281, top5-e-train: 0.055 | top1-e-test: 0.463, top5-e-test: 0.181\n",
            "[Epoch  18], lr: 0.10000, Loss: 0.956 | top1-e-train: 0.257, top5-e-train: 0.047 | top1-e-test: 0.452, top5-e-test: 0.174\n",
            "[Epoch  19], lr: 0.10000, Loss: 0.881 | top1-e-train: 0.233, top5-e-train: 0.040 | top1-e-test: 0.445, top5-e-test: 0.176\n",
            "[Epoch  20], lr: 0.10000, Loss: 0.817 | top1-e-train: 0.212, top5-e-train: 0.030 | top1-e-test: 0.442, top5-e-test: 0.167\n",
            "[Epoch  21], lr: 0.10000, Loss: 0.741 | top1-e-train: 0.185, top5-e-train: 0.024 | top1-e-test: 0.432, top5-e-test: 0.158\n",
            "[Epoch  22], lr: 0.10000, Loss: 0.677 | top1-e-train: 0.190, top5-e-train: 0.022 | top1-e-test: 0.446, top5-e-test: 0.171\n",
            "[Epoch  23], lr: 0.10000, Loss: 0.612 | top1-e-train: 0.150, top5-e-train: 0.013 | top1-e-test: 0.429, top5-e-test: 0.165\n",
            "[Epoch  24], lr: 0.10000, Loss: 0.555 | top1-e-train: 0.146, top5-e-train: 0.013 | top1-e-test: 0.426, top5-e-test: 0.164\n",
            "[Epoch  25], lr: 0.10000, Loss: 0.511 | top1-e-train: 0.149, top5-e-train: 0.014 | top1-e-test: 0.438, top5-e-test: 0.171\n",
            "[Epoch  26], lr: 0.10000, Loss: 0.458 | top1-e-train: 0.126, top5-e-train: 0.009 | top1-e-test: 0.438, top5-e-test: 0.171\n",
            "[Epoch  27], lr: 0.10000, Loss: 0.415 | top1-e-train: 0.101, top5-e-train: 0.006 | top1-e-test: 0.429, top5-e-test: 0.166\n",
            "[Epoch  28], lr: 0.10000, Loss: 0.376 | top1-e-train: 0.098, top5-e-train: 0.005 | top1-e-test: 0.420, top5-e-test: 0.163\n",
            "[Epoch  29], lr: 0.01000, Loss: 0.203 | top1-e-train: 0.035, top5-e-train: 0.001 | top1-e-test: 0.387, top5-e-test: 0.144\n",
            "[Epoch  30], lr: 0.01000, Loss: 0.139 | top1-e-train: 0.029, top5-e-train: 0.001 | top1-e-test: 0.383, top5-e-test: 0.143\n",
            "[Epoch  31], lr: 0.01000, Loss: 0.119 | top1-e-train: 0.024, top5-e-train: 0.001 | top1-e-test: 0.381, top5-e-test: 0.141\n",
            "[Epoch  32], lr: 0.01000, Loss: 0.107 | top1-e-train: 0.019, top5-e-train: 0.000 | top1-e-test: 0.384, top5-e-test: 0.142\n",
            "[Epoch  33], lr: 0.01000, Loss: 0.094 | top1-e-train: 0.018, top5-e-train: 0.001 | top1-e-test: 0.383, top5-e-test: 0.142\n",
            "[Epoch  34], lr: 0.01000, Loss: 0.084 | top1-e-train: 0.017, top5-e-train: 0.000 | top1-e-test: 0.383, top5-e-test: 0.141\n",
            "[Epoch  35], lr: 0.01000, Loss: 0.075 | top1-e-train: 0.014, top5-e-train: 0.000 | top1-e-test: 0.381, top5-e-test: 0.142\n",
            "[Epoch  36], lr: 0.01000, Loss: 0.075 | top1-e-train: 0.012, top5-e-train: 0.000 | top1-e-test: 0.383, top5-e-test: 0.143\n",
            "[Epoch  37], lr: 0.01000, Loss: 0.069 | top1-e-train: 0.010, top5-e-train: 0.000 | top1-e-test: 0.382, top5-e-test: 0.143\n",
            "[Epoch  38], lr: 0.01000, Loss: 0.063 | top1-e-train: 0.011, top5-e-train: 0.000 | top1-e-test: 0.380, top5-e-test: 0.142\n",
            "[Epoch  39], lr: 0.01000, Loss: 0.060 | top1-e-train: 0.009, top5-e-train: 0.000 | top1-e-test: 0.383, top5-e-test: 0.142\n",
            "[Epoch  40], lr: 0.01000, Loss: 0.058 | top1-e-train: 0.010, top5-e-train: 0.000 | top1-e-test: 0.382, top5-e-test: 0.142\n",
            "[Epoch  41], lr: 0.01000, Loss: 0.052 | top1-e-train: 0.009, top5-e-train: 0.000 | top1-e-test: 0.382, top5-e-test: 0.145\n",
            "[Epoch  42], lr: 0.01000, Loss: 0.050 | top1-e-train: 0.008, top5-e-train: 0.000 | top1-e-test: 0.382, top5-e-test: 0.145\n",
            "[Epoch  43], lr: 0.01000, Loss: 0.048 | top1-e-train: 0.008, top5-e-train: 0.000 | top1-e-test: 0.383, top5-e-test: 0.144\n",
            "[Epoch  44], lr: 0.01000, Loss: 0.045 | top1-e-train: 0.007, top5-e-train: 0.000 | top1-e-test: 0.383, top5-e-test: 0.142\n",
            "[Epoch  45], lr: 0.01000, Loss: 0.043 | top1-e-train: 0.007, top5-e-train: 0.000 | top1-e-test: 0.381, top5-e-test: 0.141\n",
            "[Epoch  46], lr: 0.01000, Loss: 0.041 | top1-e-train: 0.007, top5-e-train: 0.000 | top1-e-test: 0.384, top5-e-test: 0.143\n",
            "[Epoch  47], lr: 0.01000, Loss: 0.039 | top1-e-train: 0.006, top5-e-train: 0.000 | top1-e-test: 0.382, top5-e-test: 0.145\n",
            "[Epoch  48], lr: 0.01000, Loss: 0.039 | top1-e-train: 0.005, top5-e-train: 0.000 | top1-e-test: 0.382, top5-e-test: 0.144\n",
            "[Epoch  49], lr: 0.01000, Loss: 0.037 | top1-e-train: 0.005, top5-e-train: 0.000 | top1-e-test: 0.384, top5-e-test: 0.143\n",
            "[Epoch  50], lr: 0.01000, Loss: 0.037 | top1-e-train: 0.005, top5-e-train: 0.000 | top1-e-test: 0.385, top5-e-test: 0.144\n",
            "[Epoch  51], lr: 0.01000, Loss: 0.032 | top1-e-train: 0.005, top5-e-train: 0.000 | top1-e-test: 0.379, top5-e-test: 0.145\n",
            "[Epoch  52], lr: 0.01000, Loss: 0.032 | top1-e-train: 0.005, top5-e-train: 0.000 | top1-e-test: 0.379, top5-e-test: 0.145\n",
            "[Epoch  53], lr: 0.01000, Loss: 0.031 | top1-e-train: 0.004, top5-e-train: 0.000 | top1-e-test: 0.380, top5-e-test: 0.145\n",
            "[Epoch  54], lr: 0.01000, Loss: 0.030 | top1-e-train: 0.004, top5-e-train: 0.000 | top1-e-test: 0.381, top5-e-test: 0.144\n",
            "[Epoch  55], lr: 0.01000, Loss: 0.029 | top1-e-train: 0.004, top5-e-train: 0.000 | top1-e-test: 0.380, top5-e-test: 0.145\n",
            "[Epoch  56], lr: 0.01000, Loss: 0.029 | top1-e-train: 0.004, top5-e-train: 0.000 | top1-e-test: 0.381, top5-e-test: 0.144\n",
            "[Epoch  57], lr: 0.01000, Loss: 0.028 | top1-e-train: 0.004, top5-e-train: 0.000 | top1-e-test: 0.381, top5-e-test: 0.145\n",
            "[Epoch  58], lr: 0.01000, Loss: 0.028 | top1-e-train: 0.004, top5-e-train: 0.000 | top1-e-test: 0.382, top5-e-test: 0.143\n",
            "[Epoch  59], lr: 0.00100, Loss: 0.025 | top1-e-train: 0.003, top5-e-train: 0.000 | top1-e-test: 0.383, top5-e-test: 0.144\n",
            "[Epoch  60], lr: 0.00100, Loss: 0.024 | top1-e-train: 0.003, top5-e-train: 0.000 | top1-e-test: 0.381, top5-e-test: 0.143\n",
            "[Epoch  61], lr: 0.00100, Loss: 0.025 | top1-e-train: 0.003, top5-e-train: 0.000 | top1-e-test: 0.380, top5-e-test: 0.143\n",
            "[Epoch  62], lr: 0.00100, Loss: 0.024 | top1-e-train: 0.003, top5-e-train: 0.000 | top1-e-test: 0.382, top5-e-test: 0.144\n",
            "[Epoch  63], lr: 0.00100, Loss: 0.023 | top1-e-train: 0.003, top5-e-train: 0.000 | top1-e-test: 0.380, top5-e-test: 0.143\n",
            "[Epoch  64], lr: 0.00100, Loss: 0.024 | top1-e-train: 0.003, top5-e-train: 0.000 | top1-e-test: 0.381, top5-e-test: 0.142\n",
            "[Epoch  65], lr: 0.00100, Loss: 0.023 | top1-e-train: 0.003, top5-e-train: 0.000 | top1-e-test: 0.380, top5-e-test: 0.143\n",
            "[Epoch  66], lr: 0.00100, Loss: 0.023 | top1-e-train: 0.003, top5-e-train: 0.000 | top1-e-test: 0.379, top5-e-test: 0.143\n",
            "[Epoch  67], lr: 0.00100, Loss: 0.023 | top1-e-train: 0.003, top5-e-train: 0.000 | top1-e-test: 0.379, top5-e-test: 0.145\n",
            "[Epoch  68], lr: 0.00100, Loss: 0.023 | top1-e-train: 0.003, top5-e-train: 0.000 | top1-e-test: 0.381, top5-e-test: 0.143\n",
            "[Epoch  69], lr: 0.00100, Loss: 0.022 | top1-e-train: 0.003, top5-e-train: 0.000 | top1-e-test: 0.378, top5-e-test: 0.143\n",
            "[Epoch  70], lr: 0.00100, Loss: 0.022 | top1-e-train: 0.003, top5-e-train: 0.000 | top1-e-test: 0.380, top5-e-test: 0.144\n",
            "[Epoch  71], lr: 0.00100, Loss: 0.021 | top1-e-train: 0.003, top5-e-train: 0.000 | top1-e-test: 0.381, top5-e-test: 0.144\n",
            "[Epoch  72], lr: 0.00100, Loss: 0.022 | top1-e-train: 0.003, top5-e-train: 0.000 | top1-e-test: 0.380, top5-e-test: 0.143\n",
            "[Epoch  73], lr: 0.00100, Loss: 0.021 | top1-e-train: 0.003, top5-e-train: 0.000 | top1-e-test: 0.382, top5-e-test: 0.143\n",
            "[Epoch  74], lr: 0.00100, Loss: 0.022 | top1-e-train: 0.003, top5-e-train: 0.000 | top1-e-test: 0.379, top5-e-test: 0.142\n",
            "[Epoch  75], lr: 0.00100, Loss: 0.022 | top1-e-train: 0.002, top5-e-train: 0.000 | top1-e-test: 0.379, top5-e-test: 0.143\n",
            "[Epoch  76], lr: 0.00100, Loss: 0.022 | top1-e-train: 0.003, top5-e-train: 0.000 | top1-e-test: 0.380, top5-e-test: 0.143\n",
            "[Epoch  77], lr: 0.00100, Loss: 0.022 | top1-e-train: 0.002, top5-e-train: 0.000 | top1-e-test: 0.381, top5-e-test: 0.143\n",
            "[Epoch  78], lr: 0.00100, Loss: 0.021 | top1-e-train: 0.003, top5-e-train: 0.000 | top1-e-test: 0.380, top5-e-test: 0.143\n",
            "[Epoch  79], lr: 0.00100, Loss: 0.021 | top1-e-train: 0.002, top5-e-train: 0.000 | top1-e-test: 0.379, top5-e-test: 0.144\n",
            "[Epoch  80], lr: 0.00100, Loss: 0.021 | top1-e-train: 0.002, top5-e-train: 0.000 | top1-e-test: 0.380, top5-e-test: 0.143\n",
            "[Epoch  81], lr: 0.00100, Loss: 0.021 | top1-e-train: 0.002, top5-e-train: 0.000 | top1-e-test: 0.381, top5-e-test: 0.143\n",
            "[Epoch  82], lr: 0.00100, Loss: 0.022 | top1-e-train: 0.003, top5-e-train: 0.000 | top1-e-test: 0.381, top5-e-test: 0.143\n",
            "[Epoch  83], lr: 0.00100, Loss: 0.021 | top1-e-train: 0.003, top5-e-train: 0.000 | top1-e-test: 0.381, top5-e-test: 0.144\n",
            "[Epoch  84], lr: 0.00100, Loss: 0.022 | top1-e-train: 0.002, top5-e-train: 0.000 | top1-e-test: 0.381, top5-e-test: 0.144\n"
          ],
          "name": "stdout"
        }
      ]
    }
  ]
}